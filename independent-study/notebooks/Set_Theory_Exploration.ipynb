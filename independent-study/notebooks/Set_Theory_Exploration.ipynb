{
  "nbformat": 4,
  "nbformat_minor": 0,
  "metadata": {
    "colab": {
      "provenance": []
    },
    "kernelspec": {
      "name": "python3",
      "display_name": "Python 3"
    },
    "language_info": {
      "name": "python"
    }
  },
  "cells": [
    {
      "cell_type": "code",
      "source": [
        "CA = {\"SF\", \"LA\", \"SD\"}\n",
        "NY = {\"NYC\", \"ALB\", \"BUF\"}\n",
        "TX = {\"AUS\", \"DAL\", \"HOU\"}\n",
        "US = {CA, NY, TX}\n",
        "\n"
      ],
      "metadata": {
        "colab": {
          "base_uri": "https://localhost:8080/",
          "height": 207
        },
        "id": "kPXc5j7bLIXx",
        "outputId": "398910ae-6696-4740-a990-d00af24a2801"
      },
      "execution_count": 20,
      "outputs": [
        {
          "output_type": "error",
          "ename": "TypeError",
          "evalue": "unhashable type: 'set'",
          "traceback": [
            "\u001b[0;31m---------------------------------------------------------------------------\u001b[0m",
            "\u001b[0;31mTypeError\u001b[0m                                 Traceback (most recent call last)",
            "\u001b[0;32m<ipython-input-20-7e42b80d7ab5>\u001b[0m in \u001b[0;36m<cell line: 4>\u001b[0;34m()\u001b[0m\n\u001b[1;32m      2\u001b[0m \u001b[0mNY\u001b[0m \u001b[0;34m=\u001b[0m \u001b[0;34m{\u001b[0m\u001b[0;34m\"NYC\"\u001b[0m\u001b[0;34m,\u001b[0m \u001b[0;34m\"ALB\"\u001b[0m\u001b[0;34m,\u001b[0m \u001b[0;34m\"BUF\"\u001b[0m\u001b[0;34m}\u001b[0m\u001b[0;34m\u001b[0m\u001b[0;34m\u001b[0m\u001b[0m\n\u001b[1;32m      3\u001b[0m \u001b[0mTX\u001b[0m \u001b[0;34m=\u001b[0m \u001b[0;34m{\u001b[0m\u001b[0;34m\"AUS\"\u001b[0m\u001b[0;34m,\u001b[0m \u001b[0;34m\"DAL\"\u001b[0m\u001b[0;34m,\u001b[0m \u001b[0;34m\"HOU\"\u001b[0m\u001b[0;34m}\u001b[0m\u001b[0;34m\u001b[0m\u001b[0;34m\u001b[0m\u001b[0m\n\u001b[0;32m----> 4\u001b[0;31m \u001b[0mUS\u001b[0m \u001b[0;34m=\u001b[0m \u001b[0;34m{\u001b[0m\u001b[0mCA\u001b[0m\u001b[0;34m,\u001b[0m \u001b[0mNY\u001b[0m\u001b[0;34m,\u001b[0m \u001b[0mTX\u001b[0m\u001b[0;34m}\u001b[0m\u001b[0;34m\u001b[0m\u001b[0;34m\u001b[0m\u001b[0m\n\u001b[0m\u001b[1;32m      5\u001b[0m \u001b[0;34m\u001b[0m\u001b[0m\n",
            "\u001b[0;31mTypeError\u001b[0m: unhashable type: 'set'"
          ]
        }
      ]
    },
    {
      "cell_type": "code",
      "source": [
        "CA = frozenset({\"SF\", \"LA\", \"SD\"})\n",
        "NY = frozenset({\"NYC\", \"ALB\", \"BUF\"})\n",
        "TX = frozenset({\"AUS\", \"DAL\", \"HOU\"})\n",
        "US = {CA, NY, TX}\n",
        "\n",
        "print(US)"
      ],
      "metadata": {
        "colab": {
          "base_uri": "https://localhost:8080/"
        },
        "id": "HTfFuT9PLxxV",
        "outputId": "7a543a1e-a13c-4e19-8731-457de92c3803"
      },
      "execution_count": 12,
      "outputs": [
        {
          "output_type": "stream",
          "name": "stdout",
          "text": [
            "{frozenset({'SD', 'LA', 'SF'}), frozenset({'BUF', 'ALB', 'NYC'}), frozenset({'DAL', 'HOU', 'AUS'})}\n"
          ]
        }
      ]
    },
    {
      "cell_type": "code",
      "source": [
        "A = {'a', 'b'}\n",
        "\n",
        "# a. (b) ∈ A\n",
        "print(\"a.\", 'b' in A)\n",
        "\n",
        "# b. ∅ ∉ A\n",
        "print(\"b.\", set() in A)\n",
        "\n",
        "# c. (a) ⊆ A\n",
        "print(\"c.\", {a}.issubset(A))\n",
        "\n",
        "# d. a ⊂ A\n",
        "print(\"d.\", {a}.issubset(A) and {a} != A)"
      ],
      "metadata": {
        "colab": {
          "base_uri": "https://localhost:8080/"
        },
        "id": "Mzls9hv1N06V",
        "outputId": "2d1f214f-b05e-4a31-fb68-f6f0a0bcf678"
      },
      "execution_count": 19,
      "outputs": [
        {
          "output_type": "stream",
          "name": "stdout",
          "text": [
            "a. True\n",
            "b. False\n",
            "c. False\n",
            "d. False\n"
          ]
        }
      ]
    },
    {
      "cell_type": "code",
      "source": [],
      "metadata": {
        "id": "uWqU5PihOeiK"
      },
      "execution_count": null,
      "outputs": []
    }
  ]
}